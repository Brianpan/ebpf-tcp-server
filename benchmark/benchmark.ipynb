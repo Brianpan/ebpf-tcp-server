{
 "cells": [
  {
   "cell_type": "code",
   "execution_count": 1,
   "metadata": {},
   "outputs": [],
   "source": [
    "import pandas as pd\n"
   ]
  },
  {
   "cell_type": "code",
   "execution_count": 6,
   "metadata": {},
   "outputs": [],
   "source": [
    "df_ktcp = pd.read_csv('./kecho_bench.txt', names = ['round', 'time'], header = None, sep = ' ')\n",
    "df_ebpf = pd.read_csv('./ebpf_bench.txt', names = ['round', 'time'], header = None, sep = ' ')"
   ]
  },
  {
   "cell_type": "code",
   "execution_count": 9,
   "metadata": {},
   "outputs": [
    {
     "name": "stdout",
     "output_type": "stream",
     "text": [
      "ktcp mean:  479.248\n",
      "ebpf mean:  591.865\n",
      "ktcp std:  371.48522415806497\n",
      "ebpf std:  437.5320663495238\n"
     ]
    }
   ],
   "source": [
    "print('ktcp mean: ', df_ktcp['time'].mean())\n",
    "print('ebpf mean: ', df_ebpf['time'].mean())\n",
    "\n",
    "print('ktcp std: ', df_ktcp['time'].std())\n",
    "print('ebpf std: ', df_ebpf['time'].std())"
   ]
  },
  {
   "cell_type": "code",
   "execution_count": null,
   "metadata": {},
   "outputs": [],
   "source": []
  }
 ],
 "metadata": {
  "kernelspec": {
   "display_name": "Python 3",
   "language": "python",
   "name": "python3"
  },
  "language_info": {
   "codemirror_mode": {
    "name": "ipython",
    "version": 3
   },
   "file_extension": ".py",
   "mimetype": "text/x-python",
   "name": "python",
   "nbconvert_exporter": "python",
   "pygments_lexer": "ipython3",
   "version": "3.8.19"
  }
 },
 "nbformat": 4,
 "nbformat_minor": 4
}
